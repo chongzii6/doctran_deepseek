{
 "cells": [
  {
   "cell_type": "markdown",
   "metadata": {},
   "source": [
    "### 引入DOCTRAN"
   ]
  },
  {
   "cell_type": "code",
   "execution_count": 1,
   "metadata": {},
   "outputs": [],
   "source": [
    "import json\n",
    "import os\n",
    "from doctran import Doctran, ExtractProperty"
   ]
  },
  {
   "cell_type": "markdown",
   "metadata": {},
   "source": [
    "### 注意在ENV文中配置KEY和代理地址"
   ]
  },
  {
   "cell_type": "code",
   "execution_count": 2,
   "metadata": {},
   "outputs": [],
   "source": [
    "from dotenv import load_dotenv\n",
    "\n",
    "load_dotenv(\".env\")\n",
    "OPENAI_API_KEY = os.getenv(\"OPENAI_API_KEY\")\n",
    "OPENAI_BASE_URL = os.getenv(\"OPENAI_BASE_URL\", \"https://api.openai.com/v1\")\n",
    "#使用硅基流动的模型，记得要修改ENV配置文件\n",
    "#OPENAI_MODEL = \"deepseek-ai/DeepSeek-V2.5\"\n",
    "OPENAI_MODEL = \"gpt-4\"\n",
    "OPENAI_TOKEN_LIMIT = 16000"
   ]
  },
  {
   "cell_type": "markdown",
   "metadata": {},
   "source": [
    "### 加载文本"
   ]
  },
  {
   "cell_type": "code",
   "execution_count": 3,
   "metadata": {},
   "outputs": [
    {
     "name": "stdout",
     "output_type": "stream",
     "text": [
      "[Generated with ChatGPT]\n",
      "\n",
      "Confidential Document - For Internal Use Only\n",
      "\n",
      "Date: July 1, 2023\n",
      "\n",
      "Subject: Updates and Discussions on Various Topics\n",
      "\n",
      "Dear Team,\n",
      "\n",
      "I hope this email finds you well. In this document, I would like to provide you with some important updates and discuss various topics that require our attention. Please treat the information contained herein as highly confidential.\n",
      "\n",
      "Security and Privacy Measures\n",
      "As part of our ongoing commitment to ensure the security and privacy of our customers' data, we have implemented robust measures across all our systems. We would like to commend John Doe (email: john.doe@example.com) from the IT department for his diligent work in enhancing our network security. Moving forward, we kindly remind everyone to strictly adhere to our data protection policies and guidelines. Additionally, if you come across any potential security risks or incidents, please report them immediately to our dedicated team at security@example.com.\n",
      "\n",
      "HR Updates and Employee Benefits\n",
      "Recently, we welcomed several new team members who have made significant contributions to their respective departments. I would like to recognize Jane Smith (SSN: 049-45-5928) for her outstanding performance in customer service. Jane has consistently received positive feedback from our clients. Furthermore, please remember that the open enrollment period for our employee benefits program is fast approaching. Should you have any questions or require assistance, please contact our HR representative, Michael Johnson (phone: 418-492-3850, email: michael.johnson@example.com).\n",
      "\n",
      "Marketing Initiatives and Campaigns\n",
      "Our marketing team has been actively working on developing new strategies to increase brand awareness and drive customer engagement. We would like to thank Sarah Thompson (phone: 415-555-1234) for her exceptional efforts in managing our social media platforms. Sarah has successfully increased our follower base by 20% in the past month alone. Moreover, please mark your calendars for the upcoming product launch event on July 15th. We encourage all team members to attend and support this exciting milestone for our company.\n",
      "\n",
      "Research and Development Projects\n",
      "In our pursuit of innovation, our research and development department has been working tirelessly on various projects. I would like to acknowledge the exceptional work of David Rodriguez (email: david.rodriguez@example.com) in his role as project lead. David's contributions to the development of our cutting-edge technology have been instrumental. Furthermore, we would like to remind everyone to share their ideas and suggestions for potential new projects during our monthly R&D brainstorming session, scheduled for July 10th.\n",
      "\n",
      "Please treat the information in this document with utmost confidentiality and ensure that it is not shared with unauthorized individuals. If you have any questions or concerns regarding the topics discussed, please do not hesitate to reach out to me directly.\n",
      "\n",
      "Thank you for your attention, and let's continue to work together to achieve our goals.\n",
      "\n",
      "Best regards,\n",
      "\n",
      "Jason Fan\n",
      "Cofounder & CEO\n",
      "Psychic\n",
      "jason@psychic.dev\n"
     ]
    }
   ],
   "source": [
    "content = \"\"\n",
    "with open('sample.txt', 'r') as file:\n",
    "    content = file.read()\n",
    "print(content)"
   ]
  },
  {
   "cell_type": "markdown",
   "metadata": {},
   "source": [
    "### 实例化\n",
    "***\n",
    "注意必须传入这些参数"
   ]
  },
  {
   "cell_type": "code",
   "execution_count": 4,
   "metadata": {},
   "outputs": [],
   "source": [
    "doctran = Doctran(openai_api_key=OPENAI_API_KEY, openai_model=OPENAI_MODEL, openai_base_url=OPENAI_BASE_URL, openai_token_limit=OPENAI_TOKEN_LIMIT)\n",
    "document = doctran.parse(content=content)"
   ]
  },
  {
   "cell_type": "markdown",
   "metadata": {},
   "source": [
    "#### 提取属性\n",
    "使用 OpenAI 函数调用从任何文档中提取 JSON 数据。这非常灵活，可用于对非结构化文本进行分类、重写或提取属性。"
   ]
  },
  {
   "cell_type": "code",
   "execution_count": 5,
   "metadata": {},
   "outputs": [
    {
     "name": "stdout",
     "output_type": "stream",
     "text": [
      "警告：无法为模型 deepseek-ai/DeepSeek-V2.5 找到对应的分词器，使用默认分词器 cl100k_base\n",
      "{\n",
      "  \"millenial_or_boomer\": \"boomer\",\n",
      "  \"as_gen_z\": \"Yo, what's up team? Hope y'all good. Got some updates and stuff we need to talk about, so let's get into it. Keep this on the DL, yeah? \\n\\nFirst off, security. We beefed up our systems to keep our customers' data safe. Big shoutout to John Doe from IT (john.doe@example.com) for killing it with the network security. Remember to follow the data protection rules strictly. If you spot any security risks, hit up security@example.com ASAP. \\n\\nNext, HR stuff. We got some new homies who've been crushing it in their departments. Big props to Jane Smith for her mad skills in customer service. Also, open enrollment for benefits is coming up, so hit up Michael Johnson (418-492-3850, michael.johnson@example.com) if you need help. \\n\\nMarketing's been lit with new strategies to boost our brand and customer engagement. Sarah Thompson (415-555-1234) killed it with our social media, growing our followers by 20% last month. Don't forget the product launch on July 15th, everyone should come through. \\n\\nR&D's been grinding on some innovative projects. David Rodriguez (david.rodriguez@example.com) has been a beast as project lead, pushing our tech game forward. Remember to bring your ideas to the R&D brainstorm on July 10th. \\n\\nKeep this confidential and don't share with randos. Hit me up directly if you got questions. Let's keep this train moving. Peace out. \\n\\nJason Fan \\nCofounder & CEO \\nPsychic \\njason@psychic.dev\",\n",
      "  \"contact_info\": [\n",
      "    {\n",
      "      \"name\": \"John Doe\",\n",
      "      \"email\": \"john.doe@example.com\",\n",
      "      \"phone\": \"N/A\"\n",
      "    },\n",
      "    {\n",
      "      \"name\": \"Jane Smith\",\n",
      "      \"email\": \"N/A\",\n",
      "      \"phone\": \"N/A\"\n",
      "    },\n",
      "    {\n",
      "      \"name\": \"Michael Johnson\",\n",
      "      \"email\": \"michael.johnson@example.com\",\n",
      "      \"phone\": \"418-492-3850\"\n",
      "    },\n",
      "    {\n",
      "      \"name\": \"Sarah Thompson\",\n",
      "      \"email\": \"N/A\",\n",
      "      \"phone\": \"415-555-1234\"\n",
      "    },\n",
      "    {\n",
      "      \"name\": \"David Rodriguez\",\n",
      "      \"email\": \"david.rodriguez@example.com\",\n",
      "      \"phone\": \"N/A\"\n",
      "    },\n",
      "    {\n",
      "      \"name\": \"Jason Fan\",\n",
      "      \"email\": \"jason@psychic.dev\",\n",
      "      \"phone\": \"N/A\"\n",
      "    }\n",
      "  ]\n",
      "}\n"
     ]
    }
   ],
   "source": [
    "properties = [\n",
    "    ExtractProperty(\n",
    "        name=\"millenial_or_boomer\", \n",
    "        description=\"A prediction of whether this document was written by a millenial or boomer\",\n",
    "        type=\"string\",\n",
    "        enum=[\"millenial\", \"boomer\"],\n",
    "        required=True\n",
    "    ),\n",
    "    ExtractProperty(\n",
    "        name=\"as_gen_z\", \n",
    "        description=\"The document summarized and rewritten as if it were authored by a Gen Z person\",\n",
    "        type=\"string\",\n",
    "        required=True\n",
    "    ),\n",
    "    ExtractProperty(\n",
    "        name=\"contact_info\", \n",
    "        description=\"A list of each person mentioned and their contact information\",\n",
    "        type=\"array\",\n",
    "        items={\n",
    "            \"type\": \"object\",\n",
    "            \"properties\": {\n",
    "                \"name\": {\"type\": \"string\"},\n",
    "                \"email\": {\"type\": \"string\"},\n",
    "                \"phone\": {\"type\": \"string\"}\n",
    "            }\n",
    "        },\n",
    "        required=True\n",
    "    )\n",
    "]\n",
    "transformed_document = document.extract(properties=properties).execute()\n",
    "print(json.dumps(transformed_document.extracted_properties, indent=2))"
   ]
  },
  {
   "cell_type": "markdown",
   "metadata": {},
   "source": [
    "### 编辑敏感信息\n",
    "使用 spaCy 模型从文档中删除姓名、电子邮件、电话号码和其他敏感信息。在本地运行，以避免将敏感数据发送到第三方 API。"
   ]
  },
  {
   "cell_type": "code",
   "execution_count": 6,
   "metadata": {},
   "outputs": [
    {
     "name": "stdout",
     "output_type": "stream",
     "text": [
      "[Generated with ChatGPT]\n",
      "\n",
      "Confidential Document - For Internal Use Only\n",
      "\n",
      "Date: July 1, 2023\n",
      "\n",
      "Subject: Updates and Discussions on Various Topics\n",
      "\n",
      "Dear Team,\n",
      "\n",
      "I hope this email finds you well. In this document, I would like to provide you with some important updates and discuss various topics that require our attention. Please treat the information contained herein as highly confidential.\n",
      "\n",
      "Security and Privacy Measures\n",
      "As part of our ongoing commitment to ensure the security and privacy of our customers' data, we have implemented robust measures across all our systems. We would like to commend <PERSON> (email: <EMAIL_ADDRESS>) from the IT department for his diligent work in enhancing our network security. Moving forward, we kindly remind everyone to strictly adhere to our data protection policies and guidelines. Additionally, if you come across any potential security risks or incidents, please report them immediately to our dedicated team at <EMAIL_ADDRESS>.\n",
      "\n",
      "HR Updates and Employee Benefits\n",
      "Recently, we welcomed several new team members who have made significant contributions to their respective departments. I would like to recognize <PERSON> (SSN: <US_SSN>) for her outstanding performance in customer service. <PERSON> has consistently received positive feedback from our clients. Furthermore, please remember that the open enrollment period for our employee benefits program is fast approaching. Should you have any questions or require assistance, please contact our HR representative, <PERSON> (phone: <PHONE_NUMBER>, email: <EMAIL_ADDRESS>).\n",
      "\n",
      "Marketing Initiatives and Campaigns\n",
      "Our marketing team has been actively working on developing new strategies to increase brand awareness and drive customer engagement. We would like to thank <PERSON> (phone: <PHONE_NUMBER>) for her exceptional efforts in managing our social media platforms. <PERSON> has successfully increased our follower base by 20% in the past month alone. Moreover, please mark your calendars for the upcoming product launch event on July 15th. We encourage all team members to attend and support this exciting milestone for our company.\n",
      "\n",
      "Research and Development Projects\n",
      "In our pursuit of innovation, our research and development department has been working tirelessly on various projects. I would like to acknowledge the exceptional work of <PERSON> (email: <EMAIL_ADDRESS>) in his role as project lead. <PERSON>'s contributions to the development of our cutting-edge technology have been instrumental. Furthermore, we would like to remind everyone to share their ideas and suggestions for potential new projects during our monthly R&D brainstorming session, scheduled for July 10th.\n",
      "\n",
      "Please treat the information in this document with utmost confidentiality and ensure that it is not shared with unauthorized individuals. If you have any questions or concerns regarding the topics discussed, please do not hesitate to reach out to me directly.\n",
      "\n",
      "Thank you for your attention, and let's continue to work together to achieve our goals.\n",
      "\n",
      "Best regards,\n",
      "\n",
      "Jason Fan\n",
      "Cofounder & CEO\n",
      "Psychic\n",
      "<EMAIL_ADDRESS>\n"
     ]
    }
   ],
   "source": [
    "transformed_document = document.redact(entities=[\"PERSON\", \"EMAIL_ADDRESS\", \"PHONE_NUMBER\", \"US_SSN\"], interactive=False).execute()\n",
    "print(transformed_document.transformed_content)"
   ]
  },
  {
   "cell_type": "markdown",
   "metadata": {},
   "source": [
    "### 总结上下文\n",
    "汇总文档中的信息。"
   ]
  },
  {
   "cell_type": "code",
   "execution_count": 7,
   "metadata": {},
   "outputs": [
    {
     "name": "stdout",
     "output_type": "stream",
     "text": [
      "警告：无法为模型 deepseek-ai/DeepSeek-V2.5 找到对应的分词器，使用默认分词器 cl100k_base\n",
      "The confidential document provides updates on security measures, HR updates including employee recognition and benefits, marketing initiatives, and R&D projects. It emphasizes the importance of confidentiality and encourages participation in upcoming events and brainstorming sessions.\n"
     ]
    }
   ],
   "source": [
    "transformed_document = document.summarize(token_limit=100).execute()\n",
    "print(transformed_document.transformed_content)"
   ]
  },
  {
   "cell_type": "markdown",
   "metadata": {},
   "source": [
    "### 优化上下文\n",
    "从文档中删除所有信息，除非它与一组特定的主题相关。"
   ]
  },
  {
   "cell_type": "code",
   "execution_count": 8,
   "metadata": {},
   "outputs": [
    {
     "name": "stdout",
     "output_type": "stream",
     "text": [
      "警告：无法为模型 deepseek-ai/DeepSeek-V2.5 找到对应的分词器，使用默认分词器 cl100k_base\n",
      "Confidential Document - For Internal Use Only\n",
      "\n",
      "Date: July 1, 2023\n",
      "\n",
      "Subject: Updates and Discussions on Various Topics\n",
      "\n",
      "Dear Team,\n",
      "\n",
      "I hope this email finds you well. In this document, I would like to provide you with some important updates and discuss various topics that require our attention. Please treat the information contained herein as highly confidential.\n",
      "\n",
      "Marketing Initiatives and Campaigns\n",
      "Our marketing team has been actively working on developing new strategies to increase brand awareness and drive customer engagement. We would like to thank Sarah Thompson (phone: 415-555-1234) for her exceptional efforts in managing our social media platforms. Sarah has successfully increased our follower base by 20% in the past month alone. Moreover, please mark your calendars for the upcoming product launch event on July 15th. We encourage all team members to attend and support this exciting milestone for our company.\n",
      "\n",
      "Please treat the information in this document with utmost confidentiality and ensure that it is not shared with unauthorized individuals. If you have any questions or concerns regarding the topics discussed, please do not hesitate to reach out to me directly.\n",
      "\n",
      "Thank you for your attention, and let's continue to work together to achieve our goals.\n",
      "\n",
      "Best regards,\n",
      "\n",
      "Jason Fan\n",
      "Cofounder & CEO\n",
      "Psychic\n",
      "jason@psychic.dev\n"
     ]
    }
   ],
   "source": [
    "transformed_document = document.refine(topics=['marketing', 'company events']).execute()\n",
    "print(transformed_document.transformed_content)"
   ]
  },
  {
   "cell_type": "markdown",
   "metadata": {},
   "source": [
    "### 翻译语言\n",
    "将文本翻译成另一种语言。"
   ]
  },
  {
   "cell_type": "code",
   "execution_count": 9,
   "metadata": {},
   "outputs": [
    {
     "name": "stdout",
     "output_type": "stream",
     "text": [
      "警告：无法为模型 deepseek-ai/DeepSeek-V2.5 找到对应的分词器，使用默认分词器 cl100k_base\n",
      "Documento Confidencial - Solo para uso interno\n",
      "\n",
      "Fecha: 1 de julio de 2023\n",
      "\n",
      "Asunto: Actualizaciones y Discusiones sobre Diversos Temas\n",
      "\n",
      "Estimado Equipo,\n",
      "\n",
      "Espero que este correo electrónico les encuentre bien. En este documento, me gustaría proporcionarles algunas actualizaciones importantes y discutir diversos temas que requieren nuestra atención. Por favor, consideren la información contenida en este documento como altamente confidencial.\n",
      "\n",
      "Medidas de Seguridad y Privacidad\n",
      "Como parte de nuestro compromiso continuo para garantizar la seguridad y privacidad de los datos de nuestros clientes, hemos implementado medidas robustas en todos nuestros sistemas. Nos gustaría felicitar a John Doe (correo electrónico: john.doe@example.com) del departamento de TI por su diligente trabajo en la mejora de nuestra seguridad de red. En adelante, les rogamos que se adhieran estrictamente a nuestras políticas y directrices de protección de datos. Además, si se encuentran con algún riesgo de seguridad potencial o incidente, por favor, repórtelo inmediatamente a nuestro equipo dedicado en security@example.com.\n",
      "\n",
      "Actualizaciones de RRHH y Beneficios para Empleados\n",
      "Recientemente, hemos dado la bienvenida a varios nuevos miembros del equipo que han realizado contribuciones significativas en sus respectivos departamentos. Me gustaría reconocer el destacado desempeño de Jane Smith (SSN: 049-45-5928) en el servicio al cliente. Jane ha recibido consistentemente comentarios positivos de nuestros clientes. Además, recuerden que el período de inscripción abierta para nuestro programa de beneficios para empleados se acerca rápidamente. Si tienen alguna pregunta o requieren asistencia, por favor, contacten a nuestro representante de RRHH, Michael Johnson (teléfono: 418-492-3850, correo electrónico: michael.johnson@example.com).\n",
      "\n",
      "Iniciativas y Campañas de Marketing\n",
      "Nuestro equipo de marketing ha estado trabajando activamente en el desarrollo de nuevas estrategias para aumentar la conciencia de marca y fomentar la participación del cliente. Nos gustaría agradecer los esfuerzos excepcionales de Sarah Thompson (teléfono: 415-555-1234) por gestionar nuestras plataformas de redes sociales. Sarah ha logrado aumentar nuestra base de seguidores en un 20% en el último mes. Además, marquen sus calendarios para el próximo evento de lanzamiento de producto el 15 de julio. Animamos a todos los miembros del equipo a asistir y apoyar este emocionante hito para nuestra empresa.\n",
      "\n",
      "Proyectos de Investigación y Desarrollo\n",
      "En nuestra búsqueda de la innovación, nuestro departamento de investigación y desarrollo ha estado trabajando incansablemente en diversos proyectos. Me gustaría reconocer el trabajo excepcional de David Rodriguez (correo electrónico: david.rodriguez@example.com) en su papel de líder de proyecto. Las contribuciones de David al desarrollo de nuestra tecnología de vanguardia han sido fundamentales. Además, les recordamos que compartan sus ideas y sugerencias para posibles nuevos proyectos durante nuestra sesión mensual de lluvia de ideas de I+D, programada para el 10 de julio.\n",
      "\n",
      "Por favor, consideren la información en este documento con la máxima confidencialidad y asegúrense de que no se comparta con personas no autorizadas. Si tienen alguna pregunta o inquietud con respecto a los temas discutidos, no duden en comunicarse conmigo directamente.\n",
      "\n",
      "Gracias por su atención, y sigamos trabajando juntos para alcanzar nuestros objetivos.\n",
      "\n",
      "Atentamente,\n",
      "\n",
      "Jason Fan\n",
      "Cofundador y CEO\n",
      "Psychic\n",
      "jason@psychic.dev\n"
     ]
    }
   ],
   "source": [
    "transformed_document = document.translate(language=\"spanish\").execute()\n",
    "print(transformed_document.transformed_content)"
   ]
  },
  {
   "cell_type": "markdown",
   "metadata": {},
   "source": [
    "### 询问\n",
    "将文档中的信息转换为问答格式。最终用户查询通常以问题的形式出现，因此将信息转换为问题并从这些问题创建索引，在使用向量数据库进行上下文检索时通常会产生更好的结果。"
   ]
  },
  {
   "cell_type": "code",
   "execution_count": 10,
   "metadata": {},
   "outputs": [
    {
     "name": "stdout",
     "output_type": "stream",
     "text": [
      "警告：无法为模型 deepseek-ai/DeepSeek-V2.5 找到对应的分词器，使用默认分词器 cl100k_base\n",
      "尝试修复 JSON 格式问题...\n",
      "修复后的 JSON: {\"questions_and_answers\":[{\"question\":\"Whatisthesubjectofthedocumentdated July1,2023,addressedtotheteamby Jason Fan,Cofounder&CEOof Psychic,andhowshouldtheinformationbetreatedbyrecipientsofthedocument?\",\"answer\":\"Thesubjectofthedocumentisupdatesanddiscussionsonvarioustopicsthatrequiretheteam\"sattention.Theinformationinthedocumentshouldbetreatedwithutmostconfidentialityandnotsharedwithunauthorizedindividuals.\"}\n",
      "JSON 解析仍然失败: Expecting ',' delimiter: line 1 column 294 (char 293)\n",
      "使用默认结构...\n",
      "{\n",
      "  \"questions_and_answers\": [\n",
      "    {\n",
      "      \"question\": \"\\u89e3\\u6790\\u5931\\u8d25\\uff0c\\u8bf7\\u68c0\\u67e5\\u6a21\\u578b\\u8f93\\u51fa\",\n",
      "      \"answer\": \"\\u89e3\\u6790\\u5931\\u8d25\\uff0c\\u8bf7\\u68c0\\u67e5\\u6a21\\u578b\\u8f93\\u51fa\"\n",
      "    }\n",
      "  ]\n",
      "}\n"
     ]
    }
   ],
   "source": [
    "transformed_document = document.interrogate().execute()\n",
    "print(json.dumps(transformed_document.extracted_properties, indent=2))"
   ]
  },
  {
   "cell_type": "markdown",
   "metadata": {},
   "source": [
    "### 处理模板\n",
    "使用带有模板化占位符{像这样}的文本，并用与占位符中的指令相对应的值替换这些占位符。适用于生成电子邮件或某些文本的变体，只需修改{占位符}中的内容。可以使用任何正则表达式来检测占位符，但最常见的是{}，可以用正则表达式`\\{([^}]*)\\}`来匹配。"
   ]
  },
  {
   "cell_type": "code",
   "execution_count": 11,
   "metadata": {},
   "outputs": [
    {
     "name": "stdout",
     "output_type": "stream",
     "text": [
      "警告：无法为模型 deepseek-ai/DeepSeek-V2.5 找到对应的分词器，使用默认分词器 cl100k_base\n"
     ]
    },
    {
     "name": "stderr",
     "output_type": "stream",
     "text": [
      "<>:4: SyntaxWarning: invalid escape sequence '\\{'\n",
      "<>:4: SyntaxWarning: invalid escape sequence '\\{'\n",
      "C:\\Users\\Administrator\\AppData\\Local\\Temp\\ipykernel_22700\\322557207.py:4: SyntaxWarning: invalid escape sequence '\\{'\n",
      "  transformed_document = template.process_template(template_regex=\"\\{([^}]*)\\}\").execute()\n"
     ]
    },
    {
     "name": "stdout",
     "output_type": "stream",
     "text": [
      "尝试修复 JSON 格式问题...\n",
      "修复后的 JSON: {\"replacements\":[{\"index\":0,\"placeholder\":\"{commonamericanname}\",\"replaced_value\":\"Michael\"}\n",
      "JSON 解析仍然失败: Expecting ',' delimiter: line 1 column 93 (char 92)\n",
      "使用默认结构...\n",
      "My name is {common american name}. Today is {first day of the work week}. On this day, I like to get to work at {some unreasonably early time in the morning}. The first thing I do at work is {some arbitrary task}.\n",
      "\n",
      "{\n",
      "  \"replacements\": []\n",
      "}\n"
     ]
    }
   ],
   "source": [
    "template_string = \"\"\"My name is {common american name}. Today is {first day of the work week}. On this day, I like to get to work at {some unreasonably early time in the morning}. The first thing I do at work is {some arbitrary task}.\"\"\"\n",
    "template = doctran.parse(content=template_string)\n",
    "\n",
    "transformed_document = template.process_template(template_regex=\"\\{([^}]*)\\}\").execute()\n",
    "print(transformed_document.transformed_content + \"\\n\")\n",
    "print(json.dumps(transformed_document.extracted_properties, indent=2))"
   ]
  },
  {
   "cell_type": "markdown",
   "metadata": {},
   "source": [
    "## 链式转换\n",
    "你可以将多个转换链接在一起并在单个步骤中执行："
   ]
  },
  {
   "cell_type": "code",
   "execution_count": null,
   "metadata": {},
   "outputs": [
    {
     "name": "stdout",
     "output_type": "stream",
     "text": [
      "警告：无法为模型 deepseek-ai/DeepSeek-V2.5 找到对应的分词器，使用默认分词器 cl100k_base\n",
      "警告：无法为模型 deepseek-ai/DeepSeek-V2.5 找到对应的分词器，使用默认分词器 cl100k_base\n"
     ]
    }
   ],
   "source": [
    "transformed_document = (document\n",
    "                              .redact(entities=[\"PERSON\", \"EMAIL_ADDRESS\", \"PHONE_NUMBER\", \"US_SSN\"])\n",
    "                              .summarize(token_limit=100)\n",
    "                              .translate(language=\"french\")\n",
    "                              .execute()\n",
    "                              )\n",
    "print(transformed_document.transformed_content)"
   ]
  }
 ],
 "metadata": {
  "kernelspec": {
   "display_name": "Python 3",
   "language": "python",
   "name": "python3"
  },
  "language_info": {
   "codemirror_mode": {
    "name": "ipython",
    "version": 3
   },
   "file_extension": ".py",
   "mimetype": "text/x-python",
   "name": "python",
   "nbconvert_exporter": "python",
   "pygments_lexer": "ipython3",
   "version": "3.12.1"
  }
 },
 "nbformat": 4,
 "nbformat_minor": 2
}
